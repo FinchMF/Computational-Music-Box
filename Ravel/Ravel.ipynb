{
 "cells": [
  {
   "cell_type": "markdown",
   "metadata": {},
   "source": [
    "# Exclusive Ravel Midi"
   ]
  },
  {
   "cell_type": "code",
   "execution_count": 1,
   "metadata": {},
   "outputs": [],
   "source": [
    "import requests\n",
    "import re\n",
    "from bs4 import BeautifulSoup\n",
    "import wget\n",
    "import pandas as pd\n",
    "import warnings\n",
    "warnings.filterwarnings(\"ignore\")"
   ]
  },
  {
   "cell_type": "code",
   "execution_count": 2,
   "metadata": {},
   "outputs": [],
   "source": [
    "# function to download midi files after retrieving composer links\n",
    "def download_links_from_composer_links(composer_str):\n",
    "#     request composer's page based on link retrieved in link.get('href')\n",
    "    html_page = requests.get(f\"http://www.piano-midi.de/{composer_str}\")\n",
    "#     transform with bs4 for html read out \n",
    "    soup = BeautifulSoup(html_page.content, 'html.parser')\n",
    "#     search html for midi file link in each table and download\n",
    "    for table in soup.findAll('table', 'midi'):\n",
    "        for link in table.findAll('a'):\n",
    "#           print each file found per composer\n",
    "            print(link.get('href')[-3:])\n",
    "#           download only the midi files\n",
    "            if link.get('href')[-3:] == 'mid':\n",
    "                wget.download('http://www.piano-midi.de/{}'.format(link.get('href')))"
   ]
  },
  {
   "cell_type": "code",
   "execution_count": 3,
   "metadata": {},
   "outputs": [
    {
     "name": "stdout",
     "output_type": "stream",
     "text": [
      "ravel.htm\n",
      "mid\n",
      "mid\n",
      "mp3\n",
      "ogg\n",
      "mid\n",
      "mid\n",
      "mp3\n",
      "ogg\n",
      "mid\n",
      "mid\n",
      "mp3\n",
      "ogg\n",
      "mid\n",
      "mid\n",
      "mp3\n",
      "ogg\n",
      "mid\n",
      "mid\n",
      "mp3\n",
      "ogg\n"
     ]
    }
   ],
   "source": [
    "# set variable to Classical Piano Midi webpage\n",
    "html_page = requests.get(\"http://www.piano-midi.de/midi_files.htm\")\n",
    "# from webpage, retrieve table of composers\n",
    "composers_soup = BeautifulSoup(html_page.content, 'html.parser')\n",
    "composer_table = composers_soup.find('table', 'midi')\n",
    "# loop through table of composers and retrieve chopin's link to feed to dl function\n",
    "for link in composer_table.findAll('a', attrs={'href': 'ravel.htm'}):\n",
    "    print(link.get('href'))\n",
    "    # use function to pass composer links\n",
    "    download_links_from_composer_links(link.get('href'))"
   ]
  },
  {
   "cell_type": "code",
   "execution_count": null,
   "metadata": {},
   "outputs": [],
   "source": []
  }
 ],
 "metadata": {
  "kernelspec": {
   "display_name": "Python 3",
   "language": "python",
   "name": "python3"
  },
  "language_info": {
   "codemirror_mode": {
    "name": "ipython",
    "version": 3
   },
   "file_extension": ".py",
   "mimetype": "text/x-python",
   "name": "python",
   "nbconvert_exporter": "python",
   "pygments_lexer": "ipython3",
   "version": "3.7.3"
  }
 },
 "nbformat": 4,
 "nbformat_minor": 2
}
