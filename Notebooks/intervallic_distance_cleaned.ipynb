{
 "cells": [
  {
   "cell_type": "markdown",
   "metadata": {},
   "source": [
    "# Intervallic Mathematics \n",
    "## detecting distance"
   ]
  },
  {
   "cell_type": "code",
   "execution_count": 1,
   "metadata": {},
   "outputs": [],
   "source": [
    "import numpy as np"
   ]
  },
  {
   "cell_type": "code",
   "execution_count": 2,
   "metadata": {},
   "outputs": [
    {
     "data": {
      "text/plain": [
       "[0, 1, 2, 3, 4, 5, 6, 7, 8, 9, 10, 11]"
      ]
     },
     "execution_count": 2,
     "metadata": {},
     "output_type": "execute_result"
    }
   ],
   "source": [
    "#  12 tone scale in pictchclass \n",
    "roots = list(range(12))\n",
    "roots"
   ]
  },
  {
   "cell_type": "code",
   "execution_count": 3,
   "metadata": {},
   "outputs": [
    {
     "data": {
      "text/plain": [
       "[3, 4, 5, 6, 7, 8, 9, 10, 11]"
      ]
     },
     "execution_count": 3,
     "metadata": {},
     "output_type": "execute_result"
    }
   ],
   "source": [
    "# rotate the scale to start at the index that is the result of n-6\n",
    "roots[9-6:] \n",
    "# the same as roots[3:]"
   ]
  },
  {
   "cell_type": "code",
   "execution_count": 4,
   "metadata": {},
   "outputs": [
    {
     "data": {
      "text/plain": [
       "[0, 1, 2]"
      ]
     },
     "execution_count": 4,
     "metadata": {},
     "output_type": "execute_result"
    }
   ],
   "source": [
    "# generate the rest of the scale by using modulo operator\n",
    "roots[:(9+6)%12]\n",
    "# the same as roots[:3]"
   ]
  },
  {
   "cell_type": "code",
   "execution_count": 5,
   "metadata": {},
   "outputs": [
    {
     "data": {
      "text/plain": [
       "[3, 4, 5, 6, 7, 8, 9, 10, 11, 0, 1, 2]"
      ]
     },
     "execution_count": 5,
     "metadata": {},
     "output_type": "execute_result"
    }
   ],
   "source": [
    "# the entire twelve tone scale starting from the difference of n-6\n",
    "(roots[9-6:]+roots[:(9+6)%12])"
   ]
  },
  {
   "cell_type": "code",
   "execution_count": 6,
   "metadata": {},
   "outputs": [
    {
     "data": {
      "text/plain": [
       "0"
      ]
     },
     "execution_count": 6,
     "metadata": {},
     "output_type": "execute_result"
    }
   ],
   "source": [
    "# gives the first pitch of the set\n",
    "(roots[9-6:]+roots[:(9+6)%12])[6+3]\n",
    "# the same as (roots[3:]+roots[:3])[9]\n",
    "# the same as (roots[3:]+roots[:3]).index(3)"
   ]
  },
  {
   "cell_type": "code",
   "execution_count": 7,
   "metadata": {},
   "outputs": [
    {
     "data": {
      "text/plain": [
       "6"
      ]
     },
     "execution_count": 7,
     "metadata": {},
     "output_type": "execute_result"
    }
   ],
   "source": [
    "# this is the second distance of the set\n",
    "(roots[9-6:]+roots[:(9+6)%12])[6-3]\n",
    "# the same as (roots[9-6:]+roots[:(9+6)%12])[3]\n",
    "# the same as (roots[9-6:]+roots[:(9+6)%12]).index(9)"
   ]
  },
  {
   "cell_type": "markdown",
   "metadata": {},
   "source": [
    "How it is written, with either the [6-3], or [3] or index(9) all work. For this part, I choose to write as [6-3] in order to shows the mathmatical relationship a little more clearly. "
   ]
  },
  {
   "cell_type": "code",
   "execution_count": 8,
   "metadata": {},
   "outputs": [
    {
     "data": {
      "text/plain": [
       "(0, 6)"
      ]
     },
     "execution_count": 8,
     "metadata": {},
     "output_type": "execute_result"
    }
   ],
   "source": [
    "# put these two together and thats how we arrive at\n",
    "(roots[9-6:]+roots[:(9+6)%12])[6+3], (roots[9-6:]+roots[:(9+6)%12])[6-3]"
   ]
  },
  {
   "cell_type": "markdown",
   "metadata": {},
   "source": [
    "Okay - this gets us the basic structure needed. But it doesn't produce consistent results, yet. Throw in (8, 2 ) and you'll notice an issue. "
   ]
  },
  {
   "cell_type": "code",
   "execution_count": 9,
   "metadata": {},
   "outputs": [
    {
     "data": {
      "text/plain": [
       "(10, 6)"
      ]
     },
     "execution_count": 9,
     "metadata": {},
     "output_type": "execute_result"
    }
   ],
   "source": [
    "(roots[8-6:]+roots[:(8+6)%12])[6+2], (roots[8-6:]+roots[:(8+6)%12])[6-2]"
   ]
  },
  {
   "cell_type": "markdown",
   "metadata": {},
   "source": [
    "To detect intervals, absolutely, we need to do this:"
   ]
  },
  {
   "cell_type": "code",
   "execution_count": 10,
   "metadata": {},
   "outputs": [
    {
     "name": "stdout",
     "output_type": "stream",
     "text": [
      "0 6\n",
      "0 6\n"
     ]
    }
   ],
   "source": [
    "# we start with (9,3) to show that it detects the diminished fifth interval that we previously worked with\n",
    "# the second statement reverses the order to (3, 9) to show that can detect the distance regardless of order\n",
    "print((roots[9-6:]+roots[:(9+6)%12]).index(3), abs(6-(roots[9-6:]+roots[:(9+6)%12]).index(3)))\n",
    "print((roots[3-6:]+roots[:(3+6)%12]).index(9), abs(6-(roots[3-6:]+roots[:(3+6)%12]).index(9)))"
   ]
  },
  {
   "cell_type": "markdown",
   "metadata": {},
   "source": [
    "Here I choose to use the index(n) because it more clearly shows the relation of where the the pitchclass is located"
   ]
  },
  {
   "cell_type": "code",
   "execution_count": 22,
   "metadata": {},
   "outputs": [
    {
     "name": "stdout",
     "output_type": "stream",
     "text": [
      "starting index =  0\n",
      "6 steps from index: 6\n",
      "\n",
      "\n",
      "starting index =  0\n",
      "6 steps from index: 6\n"
     ]
    }
   ],
   "source": [
    "# Here using (5,11) and (8,2) \n",
    "print('starting index = ',(roots[5-6:]+roots[:(5+6)%12]).index(11))\n",
    "print('6 steps from index:', abs(6 - (roots[5-6:]+roots[:(5+6)%12]).index(11)))\n",
    "print('\\n')\n",
    "print('starting index = ',(roots[8-6:]+roots[:(8+6)%12]).index(2))\n",
    "print('6 steps from index:',abs(6 - (roots[8-6:]+roots[:(8+6)%12]).index(2)))"
   ]
  },
  {
   "cell_type": "code",
   "execution_count": 11,
   "metadata": {},
   "outputs": [
    {
     "name": "stdout",
     "output_type": "stream",
     "text": [
      "0 6\n",
      "0 6\n",
      "0 6\n"
     ]
    }
   ],
   "source": [
    "# now lets use (0,6), (8, 2) and (5, 11) to see if it detects the intervallic distance as (0,6)\n",
    "print((roots[0-6:]+roots[:(0+6)%12]).index(6), abs(6-(roots[0-6:]+roots[:(0+6)%12]).index(6)))\n",
    "print((roots[8-6:]+roots[:(8+6)%12]).index(2), abs(6-(roots[8-6:]+roots[:(8+6)%12]).index(2)))\n",
    "print((roots[5-6:]+roots[:(5+6)%12]).index(11), abs(6-(roots[5-6:]+roots[:(5+6)%12]).index(11)))"
   ]
  }
 ],
 "metadata": {
  "kernelspec": {
   "display_name": "Python 3",
   "language": "python",
   "name": "python3"
  },
  "language_info": {
   "codemirror_mode": {
    "name": "ipython",
    "version": 3
   },
   "file_extension": ".py",
   "mimetype": "text/x-python",
   "name": "python",
   "nbconvert_exporter": "python",
   "pygments_lexer": "ipython3",
   "version": "3.7.3"
  }
 },
 "nbformat": 4,
 "nbformat_minor": 2
}
