{
 "cells": [
  {
   "cell_type": "markdown",
   "metadata": {},
   "source": [
    "### Generate Sets of Common Chords"
   ]
  },
  {
   "cell_type": "code",
   "execution_count": 2,
   "metadata": {},
   "outputs": [],
   "source": [
    "# Use pitchclass to define common chords - do note use primeform - rather use, normal order.\n",
    "major, minor, suspended, augmented = [0,4,7],[0,3,7],[0,5,7],[0,4,8]\n",
    "diminished, major_sixth, minor_sixth, dominant_seventh = [0,3,6],[0,4,7,9],[0,3,7,9],[0,4,7,10]\n",
    "major_seventh, minor_seventh, half_diminished_seventh, diminished_seventh = [0,4,7,11],[0,3,7,10],[0,3,6,10],[0,3,6,9]\n",
    "major_ninth, dominant_ninth, dominant_minor_ninth, minor_ninth = [0,2,4,7,11],[0,2,4,7,10],[0,1,4,7,10],[0,2,3,7,10]\n",
    "\n",
    "\n",
    "\n",
    "common_chords = [major, minor, suspended, augmented, \n",
    "                    diminished, major_sixth, minor_sixth, dominant_seventh, \n",
    "                    major_seventh, minor_seventh, half_diminished_seventh, diminished_seventh, \n",
    "                    major_ninth, dominant_ninth, dominant_minor_ninth, minor_ninth]\n",
    "\n",
    "\n",
    "common_chords_string = ['major', 'minor', 'suspended', 'augmented', \n",
    "                      'diminished', 'major_sixth', 'minor_sixth', 'dominant_seventh', \n",
    "                      'major_seventh', 'minor_seventh', 'half_diminished_seventh', \n",
    "                      'diminished_seventh', 'major_ninth', 'dominant_ninth', \n",
    "                      'dominant_minor_ninth', 'minor_ninth']"
   ]
  },
  {
   "cell_type": "code",
   "execution_count": 3,
   "metadata": {},
   "outputs": [
    {
     "name": "stdout",
     "output_type": "stream",
     "text": [
      "0\n",
      "1\n",
      "2\n",
      "3\n",
      "4\n",
      "5\n",
      "6\n",
      "7\n",
      "8\n",
      "9\n",
      "10\n",
      "11\n"
     ]
    }
   ],
   "source": [
    "import numpy as np\n",
    "\n",
    "# print all roots\n",
    "roots = list(range(12))\n",
    "for r in roots:\n",
    "    print(r)"
   ]
  },
  {
   "cell_type": "code",
   "execution_count": 4,
   "metadata": {},
   "outputs": [
    {
     "name": "stdout",
     "output_type": "stream",
     "text": [
      "[0, 4, 7]\n",
      "[0, 3, 7]\n",
      "[0, 5, 7]\n",
      "[0, 4, 8]\n",
      "[0, 3, 6]\n",
      "[0, 4, 7, 9]\n",
      "[0, 3, 7, 9]\n",
      "[0, 4, 7, 10]\n",
      "[0, 4, 7, 11]\n",
      "[0, 3, 7, 10]\n",
      "[0, 3, 6, 10]\n",
      "[0, 3, 6, 9]\n",
      "[0, 2, 4, 7, 11]\n",
      "[0, 2, 4, 7, 10]\n",
      "[0, 1, 4, 7, 10]\n",
      "[0, 2, 3, 7, 10]\n"
     ]
    }
   ],
   "source": [
    "# print all common chords\n",
    "\n",
    "for v in common_chords:\n",
    "    print(v)"
   ]
  },
  {
   "cell_type": "code",
   "execution_count": 5,
   "metadata": {},
   "outputs": [
    {
     "data": {
      "text/plain": [
       "[[{0, 4, 7},\n",
       "  {0, 3, 7},\n",
       "  {0, 5, 7},\n",
       "  {0, 4, 8},\n",
       "  {0, 3, 6},\n",
       "  {0, 4, 7, 9},\n",
       "  {0, 3, 7, 9},\n",
       "  {0, 4, 7, 10},\n",
       "  {0, 4, 7, 11},\n",
       "  {0, 3, 7, 10},\n",
       "  {0, 3, 6, 10},\n",
       "  {0, 3, 6, 9},\n",
       "  {0, 2, 4, 7, 11},\n",
       "  {0, 2, 4, 7, 10},\n",
       "  {0, 1, 4, 7, 10},\n",
       "  {0, 2, 3, 7, 10}],\n",
       " [{1, 5, 8},\n",
       "  {1, 4, 8},\n",
       "  {1, 6, 8},\n",
       "  {1, 5, 9},\n",
       "  {1, 4, 7},\n",
       "  {1, 5, 8, 10},\n",
       "  {1, 4, 8, 10},\n",
       "  {1, 5, 8, 11},\n",
       "  {0, 1, 5, 8},\n",
       "  {1, 4, 8, 11},\n",
       "  {1, 4, 7, 11},\n",
       "  {1, 4, 7, 10},\n",
       "  {0, 1, 3, 5, 8},\n",
       "  {1, 3, 5, 8, 11},\n",
       "  {1, 2, 5, 8, 11},\n",
       "  {1, 3, 4, 8, 11}],\n",
       " [{2, 6, 9},\n",
       "  {2, 5, 9},\n",
       "  {2, 7, 9},\n",
       "  {2, 6, 10},\n",
       "  {2, 5, 8},\n",
       "  {2, 6, 9, 11},\n",
       "  {2, 5, 9, 11},\n",
       "  {0, 2, 6, 9},\n",
       "  {1, 2, 6, 9},\n",
       "  {0, 2, 5, 9},\n",
       "  {0, 2, 5, 8},\n",
       "  {2, 5, 8, 11},\n",
       "  {1, 2, 4, 6, 9},\n",
       "  {0, 2, 4, 6, 9},\n",
       "  {0, 2, 3, 6, 9},\n",
       "  {0, 2, 4, 5, 9}],\n",
       " [{3, 7, 10},\n",
       "  {3, 6, 10},\n",
       "  {3, 8, 10},\n",
       "  {3, 7, 11},\n",
       "  {3, 6, 9},\n",
       "  {0, 3, 7, 10},\n",
       "  {0, 3, 6, 10},\n",
       "  {1, 3, 7, 10},\n",
       "  {2, 3, 7, 10},\n",
       "  {1, 3, 6, 10},\n",
       "  {1, 3, 6, 9},\n",
       "  {0, 3, 6, 9},\n",
       "  {2, 3, 5, 7, 10},\n",
       "  {1, 3, 5, 7, 10},\n",
       "  {1, 3, 4, 7, 10},\n",
       "  {1, 3, 5, 6, 10}],\n",
       " [{4, 8, 11},\n",
       "  {4, 7, 11},\n",
       "  {4, 9, 11},\n",
       "  {0, 4, 8},\n",
       "  {4, 7, 10},\n",
       "  {1, 4, 8, 11},\n",
       "  {1, 4, 7, 11},\n",
       "  {2, 4, 8, 11},\n",
       "  {3, 4, 8, 11},\n",
       "  {2, 4, 7, 11},\n",
       "  {2, 4, 7, 10},\n",
       "  {1, 4, 7, 10},\n",
       "  {3, 4, 6, 8, 11},\n",
       "  {2, 4, 6, 8, 11},\n",
       "  {2, 4, 5, 8, 11},\n",
       "  {2, 4, 6, 7, 11}],\n",
       " [{0, 5, 9},\n",
       "  {0, 5, 8},\n",
       "  {0, 5, 10},\n",
       "  {1, 5, 9},\n",
       "  {5, 8, 11},\n",
       "  {0, 2, 5, 9},\n",
       "  {0, 2, 5, 8},\n",
       "  {0, 3, 5, 9},\n",
       "  {0, 4, 5, 9},\n",
       "  {0, 3, 5, 8},\n",
       "  {3, 5, 8, 11},\n",
       "  {2, 5, 8, 11},\n",
       "  {0, 4, 5, 7, 9},\n",
       "  {0, 3, 5, 7, 9},\n",
       "  {0, 3, 5, 6, 9},\n",
       "  {0, 3, 5, 7, 8}],\n",
       " [{1, 6, 10},\n",
       "  {1, 6, 9},\n",
       "  {1, 6, 11},\n",
       "  {2, 6, 10},\n",
       "  {0, 6, 9},\n",
       "  {1, 3, 6, 10},\n",
       "  {1, 3, 6, 9},\n",
       "  {1, 4, 6, 10},\n",
       "  {1, 5, 6, 10},\n",
       "  {1, 4, 6, 9},\n",
       "  {0, 4, 6, 9},\n",
       "  {0, 3, 6, 9},\n",
       "  {1, 5, 6, 8, 10},\n",
       "  {1, 4, 6, 8, 10},\n",
       "  {1, 4, 6, 7, 10},\n",
       "  {1, 4, 6, 8, 9}],\n",
       " [{2, 7, 11},\n",
       "  {2, 7, 10},\n",
       "  {0, 2, 7},\n",
       "  {3, 7, 11},\n",
       "  {1, 7, 10},\n",
       "  {2, 4, 7, 11},\n",
       "  {2, 4, 7, 10},\n",
       "  {2, 5, 7, 11},\n",
       "  {2, 6, 7, 11},\n",
       "  {2, 5, 7, 10},\n",
       "  {1, 5, 7, 10},\n",
       "  {1, 4, 7, 10},\n",
       "  {2, 6, 7, 9, 11},\n",
       "  {2, 5, 7, 9, 11},\n",
       "  {2, 5, 7, 8, 11},\n",
       "  {2, 5, 7, 9, 10}],\n",
       " [{0, 3, 8},\n",
       "  {3, 8, 11},\n",
       "  {1, 3, 8},\n",
       "  {0, 4, 8},\n",
       "  {2, 8, 11},\n",
       "  {0, 3, 5, 8},\n",
       "  {3, 5, 8, 11},\n",
       "  {0, 3, 6, 8},\n",
       "  {0, 3, 7, 8},\n",
       "  {3, 6, 8, 11},\n",
       "  {2, 6, 8, 11},\n",
       "  {2, 5, 8, 11},\n",
       "  {0, 3, 7, 8, 10},\n",
       "  {0, 3, 6, 8, 10},\n",
       "  {0, 3, 6, 8, 9},\n",
       "  {3, 6, 8, 10, 11}],\n",
       " [{1, 4, 9},\n",
       "  {0, 4, 9},\n",
       "  {2, 4, 9},\n",
       "  {1, 5, 9},\n",
       "  {0, 3, 9},\n",
       "  {1, 4, 6, 9},\n",
       "  {0, 4, 6, 9},\n",
       "  {1, 4, 7, 9},\n",
       "  {1, 4, 8, 9},\n",
       "  {0, 4, 7, 9},\n",
       "  {0, 3, 7, 9},\n",
       "  {0, 3, 6, 9},\n",
       "  {1, 4, 8, 9, 11},\n",
       "  {1, 4, 7, 9, 11},\n",
       "  {1, 4, 7, 9, 10},\n",
       "  {0, 4, 7, 9, 11}],\n",
       " [{2, 5, 10},\n",
       "  {1, 5, 10},\n",
       "  {3, 5, 10},\n",
       "  {2, 6, 10},\n",
       "  {1, 4, 10},\n",
       "  {2, 5, 7, 10},\n",
       "  {1, 5, 7, 10},\n",
       "  {2, 5, 8, 10},\n",
       "  {2, 5, 9, 10},\n",
       "  {1, 5, 8, 10},\n",
       "  {1, 4, 8, 10},\n",
       "  {1, 4, 7, 10},\n",
       "  {0, 2, 5, 9, 10},\n",
       "  {0, 2, 5, 8, 10},\n",
       "  {2, 5, 8, 10, 11},\n",
       "  {0, 1, 5, 8, 10}],\n",
       " [{3, 6, 11},\n",
       "  {2, 6, 11},\n",
       "  {4, 6, 11},\n",
       "  {3, 7, 11},\n",
       "  {2, 5, 11},\n",
       "  {3, 6, 8, 11},\n",
       "  {2, 6, 8, 11},\n",
       "  {3, 6, 9, 11},\n",
       "  {3, 6, 10, 11},\n",
       "  {2, 6, 9, 11},\n",
       "  {2, 5, 9, 11},\n",
       "  {2, 5, 8, 11},\n",
       "  {1, 3, 6, 10, 11},\n",
       "  {1, 3, 6, 9, 11},\n",
       "  {0, 3, 6, 9, 11},\n",
       "  {1, 2, 6, 9, 11}]]"
      ]
     },
     "execution_count": 5,
     "metadata": {},
     "output_type": "execute_result"
    }
   ],
   "source": [
    "# iterate all common chords over the twelve roots\n",
    "\n",
    "[[{(n+r)%12 for n in v} for v in common_chords] for r in roots]"
   ]
  },
  {
   "cell_type": "code",
   "execution_count": 7,
   "metadata": {},
   "outputs": [],
   "source": [
    "# make a list of lists into a single list\n",
    "flatten = lambda l: [item for sublist in l for item in sublist]\n",
    "chord_list = flatten([[{(n+r)%12 for n in v} for v in common_chords] for r in roots])"
   ]
  },
  {
   "cell_type": "code",
   "execution_count": 8,
   "metadata": {},
   "outputs": [
    {
     "data": {
      "text/plain": [
       "{3, 4, 8, 11}"
      ]
     },
     "execution_count": 8,
     "metadata": {},
     "output_type": "execute_result"
    }
   ],
   "source": [
    "chord_list[72]"
   ]
  },
  {
   "cell_type": "markdown",
   "metadata": {},
   "source": [
    "If you look at the Ravel to Chord ngram image you'll see that chord 72 does indeed equal this set, and when convereted that this set equals [Eb, D, Ab, B]"
   ]
  },
  {
   "cell_type": "code",
   "execution_count": 9,
   "metadata": {},
   "outputs": [
    {
     "name": "stdout",
     "output_type": "stream",
     "text": [
      "Entire list: 192\n",
      "Unique List: 151\n"
     ]
    }
   ],
   "source": [
    "# making a list of zero duplicates\n",
    "unique_list = []\n",
    "for i in range(192):\n",
    "    if chord_list[i] not in unique_list:\n",
    "        unique_list.append(chord_list[i])\n",
    "print('Entire list:',len(chord_list))\n",
    "print('Unique List:',len(unique_list))"
   ]
  }
 ],
 "metadata": {
  "kernelspec": {
   "display_name": "Python 3",
   "language": "python",
   "name": "python3"
  },
  "language_info": {
   "codemirror_mode": {
    "name": "ipython",
    "version": 3
   },
   "file_extension": ".py",
   "mimetype": "text/x-python",
   "name": "python",
   "nbconvert_exporter": "python",
   "pygments_lexer": "ipython3",
   "version": "3.7.3"
  }
 },
 "nbformat": 4,
 "nbformat_minor": 2
}
