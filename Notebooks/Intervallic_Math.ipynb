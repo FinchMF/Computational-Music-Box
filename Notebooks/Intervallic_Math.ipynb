{
 "cells": [
  {
   "cell_type": "markdown",
   "metadata": {},
   "source": [
    "# Intervallic Math"
   ]
  },
  {
   "cell_type": "code",
   "execution_count": 3,
   "metadata": {},
   "outputs": [],
   "source": [
    "import numpy as np"
   ]
  },
  {
   "cell_type": "markdown",
   "metadata": {},
   "source": [
    "## Distance from one note to another (abstracted to pitch set)"
   ]
  },
  {
   "cell_type": "markdown",
   "metadata": {},
   "source": [
    "Given two notes, what is their intervallice relation?\n",
    "\n",
    "NOTES GIVES: (9, 3)\n",
    "\n",
    "We will have one constant: 6\n",
    "\n",
    "\n",
    "The relations ship between pitchclass 9 and 3:\n",
    "\n",
    "A Diminished Fifth // \n",
    "Has an interval of six steps // \n",
    "Equivelant to pitchclass: <06>"
   ]
  },
  {
   "cell_type": "code",
   "execution_count": 4,
   "metadata": {},
   "outputs": [
    {
     "data": {
      "text/plain": [
       "[0, 1, 2, 3, 4, 5, 6, 7, 8, 9, 10, 11]"
      ]
     },
     "execution_count": 4,
     "metadata": {},
     "output_type": "execute_result"
    }
   ],
   "source": [
    "#  12 tone scale in pictchclass  (use scale instead of roots)\n",
    "roots = list(range(12))\n",
    "roots"
   ]
  },
  {
   "cell_type": "code",
   "execution_count": 5,
   "metadata": {},
   "outputs": [
    {
     "data": {
      "text/plain": [
       "[3, 4, 5, 6, 7, 8, 9, 10, 11]"
      ]
     },
     "execution_count": 5,
     "metadata": {},
     "output_type": "execute_result"
    }
   ],
   "source": [
    "# rotate the scale to start at the index that is the result of n-6\n",
    "roots[9-6:] \n",
    "# the same as roots[3:]\n"
   ]
  },
  {
   "cell_type": "code",
   "execution_count": 6,
   "metadata": {},
   "outputs": [
    {
     "data": {
      "text/plain": [
       "[0, 1, 2]"
      ]
     },
     "execution_count": 6,
     "metadata": {},
     "output_type": "execute_result"
    }
   ],
   "source": [
    "# generate the rest of the scale by using modulus\n",
    "roots[:(9+6)%12]\n",
    "# the same as roots[:3]\n"
   ]
  },
  {
   "cell_type": "code",
   "execution_count": 7,
   "metadata": {},
   "outputs": [
    {
     "data": {
      "text/plain": [
       "[3, 4, 5, 6, 7, 8, 9, 10, 11, 0, 1, 2]"
      ]
     },
     "execution_count": 7,
     "metadata": {},
     "output_type": "execute_result"
    }
   ],
   "source": [
    "# the whole 12 tone scale starting from the difference of n-6\n",
    "(roots[9-6:]+roots[:(9+6)%12])"
   ]
  },
  {
   "cell_type": "code",
   "execution_count": 8,
   "metadata": {},
   "outputs": [
    {
     "data": {
      "text/plain": [
       "0"
      ]
     },
     "execution_count": 8,
     "metadata": {},
     "output_type": "execute_result"
    }
   ],
   "source": [
    "# gives the first pitch of the set.\n",
    "(roots[9-6:]+roots[:(9+6)%12])[6+3]\n",
    "# the same as (roots[3:]+roots[:3])[9]"
   ]
  },
  {
   "cell_type": "code",
   "execution_count": 9,
   "metadata": {},
   "outputs": [
    {
     "data": {
      "text/plain": [
       "[3, 4, 5, 6, 7, 8, 9, 10, 11, 0, 1, 2]"
      ]
     },
     "execution_count": 9,
     "metadata": {},
     "output_type": "execute_result"
    }
   ],
   "source": [
    "# We use this agin to establish orientaion of the scale we are workint with\n",
    "roots[9-6:]+roots[:(9+6)%12]"
   ]
  },
  {
   "cell_type": "code",
   "execution_count": 10,
   "metadata": {},
   "outputs": [
    {
     "data": {
      "text/plain": [
       "6"
      ]
     },
     "execution_count": 10,
     "metadata": {},
     "output_type": "execute_result"
    }
   ],
   "source": [
    "# this is the second distance of the set. \n",
    "(roots[9-6:]+roots[:(9+6)%12])[6-3]"
   ]
  },
  {
   "cell_type": "code",
   "execution_count": 11,
   "metadata": {},
   "outputs": [
    {
     "data": {
      "text/plain": [
       "(0, 6)"
      ]
     },
     "execution_count": 11,
     "metadata": {},
     "output_type": "execute_result"
    }
   ],
   "source": [
    "(roots[9-6:]+roots[:(9+6)%12])[6+3], (roots[9-6:]+roots[:(9+6)%12])[6-3]"
   ]
  },
  {
   "cell_type": "markdown",
   "metadata": {},
   "source": [
    "## The distance stepwise "
   ]
  },
  {
   "cell_type": "markdown",
   "metadata": {},
   "source": [
    "Lets use another set of numbers that are also equal to pitchclass: <06>\n",
    "\n",
    "Lets compare (9,3), (8,2) and (0,6)"
   ]
  },
  {
   "cell_type": "code",
   "execution_count": 12,
   "metadata": {},
   "outputs": [
    {
     "data": {
      "text/plain": [
       "[3, 4, 5, 6, 7, 8, 9, 10, 11, 0, 1, 2]"
      ]
     },
     "execution_count": 12,
     "metadata": {},
     "output_type": "execute_result"
    }
   ],
   "source": [
    "# Starting off with (9,3)\n",
    "roots[9-6:]+roots[:(9+6)%12]"
   ]
  },
  {
   "cell_type": "code",
   "execution_count": 13,
   "metadata": {},
   "outputs": [
    {
     "data": {
      "text/plain": [
       "6"
      ]
     },
     "execution_count": 13,
     "metadata": {},
     "output_type": "execute_result"
    }
   ],
   "source": [
    "# The second input will always be the index of that is six steps aways\n",
    "(roots[9-6:]+roots[:(9+6)%12]).index(3)\n",
    "abs(6 - (roots[9-6:]+roots[:(9+6)%12]).index(3))"
   ]
  },
  {
   "cell_type": "code",
   "execution_count": 14,
   "metadata": {},
   "outputs": [
    {
     "data": {
      "text/plain": [
       "6"
      ]
     },
     "execution_count": 14,
     "metadata": {},
     "output_type": "execute_result"
    }
   ],
   "source": [
    "# since intervals are constant, it will not matter if it is (9,3) or (3,9) - the distance will be the same\n",
    "(roots[3-6:]+roots[:(3+6)%12]).index(9)\n",
    "abs(6 - (roots[3-6:]+roots[:(3+6)%12]).index(9))"
   ]
  },
  {
   "cell_type": "code",
   "execution_count": 15,
   "metadata": {},
   "outputs": [
    {
     "name": "stdout",
     "output_type": "stream",
     "text": [
      "Index =  11\n",
      "Subtract 6 from Index(the absolute): 5\n",
      "\n",
      "\n",
      "Index =  1\n",
      "Subtract 6 from Index(the absolute): 5\n"
     ]
    }
   ],
   "source": [
    "# Using (11,4) and (8,3) to better clarify how the second input is the index that is always 6 steps away\n",
    "print('Index = ',(roots[11-6:]+roots[:(11+6)%12]).index(4))\n",
    "print('Subtract 6 from Index(the absolute):', abs(6 - (roots[11-6:]+roots[:(11+6)%12]).index(4)))\n",
    "print('\\n')\n",
    "print('Index = ',(roots[8-6:]+roots[:(8+6)%12]).index(3))\n",
    "print('Subtract 6 from Index(the absolute):',abs(6 - (roots[8-6:]+roots[:(8+6)%12]).index(3)))"
   ]
  },
  {
   "cell_type": "code",
   "execution_count": 16,
   "metadata": {},
   "outputs": [
    {
     "name": "stdout",
     "output_type": "stream",
     "text": [
      "0\n",
      "6\n"
     ]
    }
   ],
   "source": [
    "# (0,6)\n",
    "print((roots[0-6:]+roots[:(0+6)%12]).index(6))\n",
    "print(abs(6 - (roots[0-6:]+roots[:(0+6)%12]).index(6)))"
   ]
  },
  {
   "cell_type": "code",
   "execution_count": 17,
   "metadata": {},
   "outputs": [
    {
     "name": "stdout",
     "output_type": "stream",
     "text": [
      "0\n",
      "6\n"
     ]
    }
   ],
   "source": [
    "# (8,2)\n",
    "print((roots[8-6:]+roots[:(8+6)%12]).index(2))\n",
    "print(abs(6 - (roots[8-6:]+roots[:(8+6)%12]).index(2)))"
   ]
  },
  {
   "cell_type": "markdown",
   "metadata": {},
   "source": [
    "## Generating sets of common chords"
   ]
  },
  {
   "cell_type": "code",
   "execution_count": 18,
   "metadata": {},
   "outputs": [],
   "source": [
    "# Use pitchclass to define common chords - do note use primeform - rather use, normal order.\n",
    "major, minor, suspended, augmented = [0,4,7],[0,3,7],[0,5,7],[0,4,8]\n",
    "diminished, major_sixth, minor_sixth, dominant_seventh = [0,3,6],[0,4,7,9],[0,3,7,9],[0,4,7,10]\n",
    "major_seventh, minor_seventh, half_diminished_seventh, diminished_seventh = [0,4,7,11],[0,3,7,10],[0,3,6,10],[0,3,6,9]\n",
    "major_ninth, dominant_ninth, dominant_minor_ninth, minor_ninth = [0,2,4,7,11],[0,2,4,7,10],[0,1,4,7,10],[0,2,3,7,10]\n",
    "\n",
    "\n",
    "\n",
    "common_chords = [major, minor, suspended, augmented, \n",
    "                    diminished, major_sixth, minor_sixth, dominant_seventh, \n",
    "                    major_seventh, minor_seventh, half_diminished_seventh, diminished_seventh, \n",
    "                    major_ninth, dominant_ninth, dominant_minor_ninth, minor_ninth]\n",
    "\n",
    "\n",
    "common_chords_string = ['major', 'minor', 'suspended', 'augmented', \n",
    "                      'diminished', 'major_sixth', 'minor_sixth', 'dominant_seventh', \n",
    "                      'major_seventh', 'minor_seventh', 'half_diminished_seventh', 'diminished_seventh', \n",
    "                      'major_ninth', 'dominant_ninth', 'dominant_minor_ninth', 'minor_ninth']\n"
   ]
  },
  {
   "cell_type": "code",
   "execution_count": 19,
   "metadata": {},
   "outputs": [
    {
     "name": "stdout",
     "output_type": "stream",
     "text": [
      "0\n",
      "1\n",
      "2\n",
      "3\n",
      "4\n",
      "5\n",
      "6\n",
      "7\n",
      "8\n",
      "9\n",
      "10\n",
      "11\n"
     ]
    }
   ],
   "source": [
    "for r in roots:\n",
    "    print(r)"
   ]
  },
  {
   "cell_type": "code",
   "execution_count": 20,
   "metadata": {},
   "outputs": [
    {
     "name": "stdout",
     "output_type": "stream",
     "text": [
      "[0, 4, 7]\n",
      "[0, 3, 7]\n",
      "[0, 5, 7]\n",
      "[0, 4, 8]\n",
      "[0, 3, 6]\n",
      "[0, 4, 7, 9]\n",
      "[0, 3, 7, 9]\n",
      "[0, 4, 7, 10]\n",
      "[0, 4, 7, 11]\n",
      "[0, 3, 7, 10]\n",
      "[0, 3, 6, 10]\n",
      "[0, 3, 6, 9]\n",
      "[0, 2, 4, 7, 11]\n",
      "[0, 2, 4, 7, 10]\n",
      "[0, 1, 4, 7, 10]\n",
      "[0, 2, 3, 7, 10]\n"
     ]
    }
   ],
   "source": [
    "for v in common_chords:\n",
    "    print(v)"
   ]
  },
  {
   "cell_type": "code",
   "execution_count": 21,
   "metadata": {},
   "outputs": [
    {
     "data": {
      "text/plain": [
       "[[{0, 4, 7},\n",
       "  {0, 3, 7},\n",
       "  {0, 5, 7},\n",
       "  {0, 4, 8},\n",
       "  {0, 3, 6},\n",
       "  {0, 4, 7, 9},\n",
       "  {0, 3, 7, 9},\n",
       "  {0, 4, 7, 10},\n",
       "  {0, 4, 7, 11},\n",
       "  {0, 3, 7, 10},\n",
       "  {0, 3, 6, 10},\n",
       "  {0, 3, 6, 9},\n",
       "  {0, 2, 4, 7, 11},\n",
       "  {0, 2, 4, 7, 10},\n",
       "  {0, 1, 4, 7, 10},\n",
       "  {0, 2, 3, 7, 10}],\n",
       " [{1, 5, 8},\n",
       "  {1, 4, 8},\n",
       "  {1, 6, 8},\n",
       "  {1, 5, 9},\n",
       "  {1, 4, 7},\n",
       "  {1, 5, 8, 10},\n",
       "  {1, 4, 8, 10},\n",
       "  {1, 5, 8, 11},\n",
       "  {0, 1, 5, 8},\n",
       "  {1, 4, 8, 11},\n",
       "  {1, 4, 7, 11},\n",
       "  {1, 4, 7, 10},\n",
       "  {0, 1, 3, 5, 8},\n",
       "  {1, 3, 5, 8, 11},\n",
       "  {1, 2, 5, 8, 11},\n",
       "  {1, 3, 4, 8, 11}],\n",
       " [{2, 6, 9},\n",
       "  {2, 5, 9},\n",
       "  {2, 7, 9},\n",
       "  {2, 6, 10},\n",
       "  {2, 5, 8},\n",
       "  {2, 6, 9, 11},\n",
       "  {2, 5, 9, 11},\n",
       "  {0, 2, 6, 9},\n",
       "  {1, 2, 6, 9},\n",
       "  {0, 2, 5, 9},\n",
       "  {0, 2, 5, 8},\n",
       "  {2, 5, 8, 11},\n",
       "  {1, 2, 4, 6, 9},\n",
       "  {0, 2, 4, 6, 9},\n",
       "  {0, 2, 3, 6, 9},\n",
       "  {0, 2, 4, 5, 9}],\n",
       " [{3, 7, 10},\n",
       "  {3, 6, 10},\n",
       "  {3, 8, 10},\n",
       "  {3, 7, 11},\n",
       "  {3, 6, 9},\n",
       "  {0, 3, 7, 10},\n",
       "  {0, 3, 6, 10},\n",
       "  {1, 3, 7, 10},\n",
       "  {2, 3, 7, 10},\n",
       "  {1, 3, 6, 10},\n",
       "  {1, 3, 6, 9},\n",
       "  {0, 3, 6, 9},\n",
       "  {2, 3, 5, 7, 10},\n",
       "  {1, 3, 5, 7, 10},\n",
       "  {1, 3, 4, 7, 10},\n",
       "  {1, 3, 5, 6, 10}],\n",
       " [{4, 8, 11},\n",
       "  {4, 7, 11},\n",
       "  {4, 9, 11},\n",
       "  {0, 4, 8},\n",
       "  {4, 7, 10},\n",
       "  {1, 4, 8, 11},\n",
       "  {1, 4, 7, 11},\n",
       "  {2, 4, 8, 11},\n",
       "  {3, 4, 8, 11},\n",
       "  {2, 4, 7, 11},\n",
       "  {2, 4, 7, 10},\n",
       "  {1, 4, 7, 10},\n",
       "  {3, 4, 6, 8, 11},\n",
       "  {2, 4, 6, 8, 11},\n",
       "  {2, 4, 5, 8, 11},\n",
       "  {2, 4, 6, 7, 11}],\n",
       " [{0, 5, 9},\n",
       "  {0, 5, 8},\n",
       "  {0, 5, 10},\n",
       "  {1, 5, 9},\n",
       "  {5, 8, 11},\n",
       "  {0, 2, 5, 9},\n",
       "  {0, 2, 5, 8},\n",
       "  {0, 3, 5, 9},\n",
       "  {0, 4, 5, 9},\n",
       "  {0, 3, 5, 8},\n",
       "  {3, 5, 8, 11},\n",
       "  {2, 5, 8, 11},\n",
       "  {0, 4, 5, 7, 9},\n",
       "  {0, 3, 5, 7, 9},\n",
       "  {0, 3, 5, 6, 9},\n",
       "  {0, 3, 5, 7, 8}],\n",
       " [{1, 6, 10},\n",
       "  {1, 6, 9},\n",
       "  {1, 6, 11},\n",
       "  {2, 6, 10},\n",
       "  {0, 6, 9},\n",
       "  {1, 3, 6, 10},\n",
       "  {1, 3, 6, 9},\n",
       "  {1, 4, 6, 10},\n",
       "  {1, 5, 6, 10},\n",
       "  {1, 4, 6, 9},\n",
       "  {0, 4, 6, 9},\n",
       "  {0, 3, 6, 9},\n",
       "  {1, 5, 6, 8, 10},\n",
       "  {1, 4, 6, 8, 10},\n",
       "  {1, 4, 6, 7, 10},\n",
       "  {1, 4, 6, 8, 9}],\n",
       " [{2, 7, 11},\n",
       "  {2, 7, 10},\n",
       "  {0, 2, 7},\n",
       "  {3, 7, 11},\n",
       "  {1, 7, 10},\n",
       "  {2, 4, 7, 11},\n",
       "  {2, 4, 7, 10},\n",
       "  {2, 5, 7, 11},\n",
       "  {2, 6, 7, 11},\n",
       "  {2, 5, 7, 10},\n",
       "  {1, 5, 7, 10},\n",
       "  {1, 4, 7, 10},\n",
       "  {2, 6, 7, 9, 11},\n",
       "  {2, 5, 7, 9, 11},\n",
       "  {2, 5, 7, 8, 11},\n",
       "  {2, 5, 7, 9, 10}],\n",
       " [{0, 3, 8},\n",
       "  {3, 8, 11},\n",
       "  {1, 3, 8},\n",
       "  {0, 4, 8},\n",
       "  {2, 8, 11},\n",
       "  {0, 3, 5, 8},\n",
       "  {3, 5, 8, 11},\n",
       "  {0, 3, 6, 8},\n",
       "  {0, 3, 7, 8},\n",
       "  {3, 6, 8, 11},\n",
       "  {2, 6, 8, 11},\n",
       "  {2, 5, 8, 11},\n",
       "  {0, 3, 7, 8, 10},\n",
       "  {0, 3, 6, 8, 10},\n",
       "  {0, 3, 6, 8, 9},\n",
       "  {3, 6, 8, 10, 11}],\n",
       " [{1, 4, 9},\n",
       "  {0, 4, 9},\n",
       "  {2, 4, 9},\n",
       "  {1, 5, 9},\n",
       "  {0, 3, 9},\n",
       "  {1, 4, 6, 9},\n",
       "  {0, 4, 6, 9},\n",
       "  {1, 4, 7, 9},\n",
       "  {1, 4, 8, 9},\n",
       "  {0, 4, 7, 9},\n",
       "  {0, 3, 7, 9},\n",
       "  {0, 3, 6, 9},\n",
       "  {1, 4, 8, 9, 11},\n",
       "  {1, 4, 7, 9, 11},\n",
       "  {1, 4, 7, 9, 10},\n",
       "  {0, 4, 7, 9, 11}],\n",
       " [{2, 5, 10},\n",
       "  {1, 5, 10},\n",
       "  {3, 5, 10},\n",
       "  {2, 6, 10},\n",
       "  {1, 4, 10},\n",
       "  {2, 5, 7, 10},\n",
       "  {1, 5, 7, 10},\n",
       "  {2, 5, 8, 10},\n",
       "  {2, 5, 9, 10},\n",
       "  {1, 5, 8, 10},\n",
       "  {1, 4, 8, 10},\n",
       "  {1, 4, 7, 10},\n",
       "  {0, 2, 5, 9, 10},\n",
       "  {0, 2, 5, 8, 10},\n",
       "  {2, 5, 8, 10, 11},\n",
       "  {0, 1, 5, 8, 10}],\n",
       " [{3, 6, 11},\n",
       "  {2, 6, 11},\n",
       "  {4, 6, 11},\n",
       "  {3, 7, 11},\n",
       "  {2, 5, 11},\n",
       "  {3, 6, 8, 11},\n",
       "  {2, 6, 8, 11},\n",
       "  {3, 6, 9, 11},\n",
       "  {3, 6, 10, 11},\n",
       "  {2, 6, 9, 11},\n",
       "  {2, 5, 9, 11},\n",
       "  {2, 5, 8, 11},\n",
       "  {1, 3, 6, 10, 11},\n",
       "  {1, 3, 6, 9, 11},\n",
       "  {0, 3, 6, 9, 11},\n",
       "  {1, 2, 6, 9, 11}]]"
      ]
     },
     "execution_count": 21,
     "metadata": {},
     "output_type": "execute_result"
    }
   ],
   "source": [
    "[[{(n+r)%12 for n in v} for v in common_chords] for r in roots]"
   ]
  },
  {
   "cell_type": "code",
   "execution_count": 22,
   "metadata": {},
   "outputs": [
    {
     "data": {
      "text/plain": [
       "192"
      ]
     },
     "execution_count": 22,
     "metadata": {},
     "output_type": "execute_result"
    }
   ],
   "source": [
    "16 * 12 "
   ]
  },
  {
   "cell_type": "code",
   "execution_count": 23,
   "metadata": {},
   "outputs": [],
   "source": [
    "# make a list of lists into a single list\n",
    "flatten = lambda l: [item for sublist in l for item in sublist]"
   ]
  },
  {
   "cell_type": "code",
   "execution_count": 24,
   "metadata": {},
   "outputs": [],
   "source": [
    "chord_list = flatten([[{(n+r)%12 for n in v} for v in common_chords] for r in roots])"
   ]
  },
  {
   "cell_type": "code",
   "execution_count": 28,
   "metadata": {},
   "outputs": [
    {
     "data": {
      "text/plain": [
       "{3, 4, 8, 11}"
      ]
     },
     "execution_count": 28,
     "metadata": {},
     "output_type": "execute_result"
    }
   ],
   "source": [
    "chord_list[72]"
   ]
  },
  {
   "cell_type": "code",
   "execution_count": 26,
   "metadata": {},
   "outputs": [],
   "source": [
    "# making a list of zero duplicates\n",
    "unique_list = []\n",
    "for i in range(192):\n",
    "    if chord_list[i] not in unique_list:\n",
    "        unique_list.append(chord_list[i])"
   ]
  },
  {
   "cell_type": "code",
   "execution_count": 27,
   "metadata": {},
   "outputs": [
    {
     "name": "stdout",
     "output_type": "stream",
     "text": [
      "Entire list: 192\n",
      "Unique List: 151\n"
     ]
    }
   ],
   "source": [
    "print('Entire list:',len(chord_list))\n",
    "print('Unique List:',len(unique_list))"
   ]
  },
  {
   "cell_type": "markdown",
   "metadata": {},
   "source": [
    "## Findins the distance between a chord"
   ]
  },
  {
   "cell_type": "code",
   "execution_count": null,
   "metadata": {},
   "outputs": [],
   "source": []
  },
  {
   "cell_type": "code",
   "execution_count": 105,
   "metadata": {},
   "outputs": [],
   "source": []
  },
  {
   "cell_type": "code",
   "execution_count": null,
   "metadata": {},
   "outputs": [],
   "source": []
  }
 ],
 "metadata": {
  "kernelspec": {
   "display_name": "Python 3",
   "language": "python",
   "name": "python3"
  },
  "language_info": {
   "codemirror_mode": {
    "name": "ipython",
    "version": 3
   },
   "file_extension": ".py",
   "mimetype": "text/x-python",
   "name": "python",
   "nbconvert_exporter": "python",
   "pygments_lexer": "ipython3",
   "version": "3.7.3"
  }
 },
 "nbformat": 4,
 "nbformat_minor": 2
}
